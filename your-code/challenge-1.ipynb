{
  "cells": [
    {
      "cell_type": "markdown",
      "metadata": {
        "id": "RZ1qNefnhBN4"
      },
      "source": [
        "# Challenge 1 - Tic Tac Toe\n",
        "\n",
        "In this lab you will perform deep learning analysis on a dataset of playing [Tic Tac Toe](https://en.wikipedia.org/wiki/Tic-tac-toe).\n",
        "\n",
        "There are 9 grids in Tic Tac Toe that are coded as the following picture shows:\n",
        "\n",
        "![Tic Tac Toe Grids](https://github.com/happyemanaloto/lab-neural-networks/blob/master/your-code/tttboard.jpg?raw=1)\n",
        "\n",
        "In the first 9 columns of the dataset you can find which marks (`x` or `o`) exist in the grids. If there is no mark in a certain grid, it is labeled as `b`. The last column is `class` which tells you whether Player X (who always moves first in Tic Tac Toe) wins in this configuration. Note that when `class` has the value `False`, it means either Player O wins the game or it ends up as a draw."
      ]
    },
    {
      "cell_type": "markdown",
      "metadata": {
        "id": "bU-BsfcthBN5"
      },
      "source": [
        "Follow the steps suggested below to conduct a neural network analysis using Tensorflow and Keras. You will build a deep learning model to predict whether Player X wins the game or not.\n",
        "\n",
        "## Step 1: Data Engineering\n",
        "\n",
        "This dataset is almost in the ready-to-use state so you do not need to worry about missing values and so on. Still, some simple data engineering is needed.\n",
        "\n",
        "1. Read `tic-tac-toe.csv` into a dataframe.\n",
        "1. Inspect the dataset. Determine if the dataset is reliable by eyeballing the data.\n",
        "1. Convert the categorical values to numeric in all columns.\n",
        "1. Separate the inputs and output.\n",
        "1. Normalize the input data."
      ]
    },
    {
      "cell_type": "code",
      "source": [
        "import pandas as pd\n",
        "import os\n",
        "\n",
        "\n",
        "# !git clone https://github.com/happyemanaloto/lab-neural-networks.git\n",
        "os.chdir(\"/content/lab-neural-networks/your-code\")\n",
        "print(os.getcwd())\n",
        "!ls\n"
      ],
      "metadata": {
        "id": "P3x9ifmkrePR"
      },
      "execution_count": null,
      "outputs": []
    },
    {
      "cell_type": "code",
      "source": [
        "df_ttt = pd.read_csv('tic-tac-toe.csv')\n",
        "df_ttt.head()"
      ],
      "metadata": {
        "id": "DZeYOMvz0UIj",
        "outputId": "767166c7-fd7f-46f0-8ea3-47fe79ad9e4a",
        "colab": {
          "base_uri": "https://localhost:8080/",
          "height": 206
        }
      },
      "execution_count": 29,
      "outputs": [
        {
          "output_type": "execute_result",
          "data": {
            "text/plain": [
              "  TL TM TR ML MM MR BL BM BR  class\n",
              "0  x  x  x  x  o  o  x  o  o   True\n",
              "1  x  x  x  x  o  o  o  x  o   True\n",
              "2  x  x  x  x  o  o  o  o  x   True\n",
              "3  x  x  x  x  o  o  o  b  b   True\n",
              "4  x  x  x  x  o  o  b  o  b   True"
            ],
            "text/html": [
              "\n",
              "  <div id=\"df-404aad09-8934-4c9e-83a9-b864289ac220\" class=\"colab-df-container\">\n",
              "    <div>\n",
              "<style scoped>\n",
              "    .dataframe tbody tr th:only-of-type {\n",
              "        vertical-align: middle;\n",
              "    }\n",
              "\n",
              "    .dataframe tbody tr th {\n",
              "        vertical-align: top;\n",
              "    }\n",
              "\n",
              "    .dataframe thead th {\n",
              "        text-align: right;\n",
              "    }\n",
              "</style>\n",
              "<table border=\"1\" class=\"dataframe\">\n",
              "  <thead>\n",
              "    <tr style=\"text-align: right;\">\n",
              "      <th></th>\n",
              "      <th>TL</th>\n",
              "      <th>TM</th>\n",
              "      <th>TR</th>\n",
              "      <th>ML</th>\n",
              "      <th>MM</th>\n",
              "      <th>MR</th>\n",
              "      <th>BL</th>\n",
              "      <th>BM</th>\n",
              "      <th>BR</th>\n",
              "      <th>class</th>\n",
              "    </tr>\n",
              "  </thead>\n",
              "  <tbody>\n",
              "    <tr>\n",
              "      <th>0</th>\n",
              "      <td>x</td>\n",
              "      <td>x</td>\n",
              "      <td>x</td>\n",
              "      <td>x</td>\n",
              "      <td>o</td>\n",
              "      <td>o</td>\n",
              "      <td>x</td>\n",
              "      <td>o</td>\n",
              "      <td>o</td>\n",
              "      <td>True</td>\n",
              "    </tr>\n",
              "    <tr>\n",
              "      <th>1</th>\n",
              "      <td>x</td>\n",
              "      <td>x</td>\n",
              "      <td>x</td>\n",
              "      <td>x</td>\n",
              "      <td>o</td>\n",
              "      <td>o</td>\n",
              "      <td>o</td>\n",
              "      <td>x</td>\n",
              "      <td>o</td>\n",
              "      <td>True</td>\n",
              "    </tr>\n",
              "    <tr>\n",
              "      <th>2</th>\n",
              "      <td>x</td>\n",
              "      <td>x</td>\n",
              "      <td>x</td>\n",
              "      <td>x</td>\n",
              "      <td>o</td>\n",
              "      <td>o</td>\n",
              "      <td>o</td>\n",
              "      <td>o</td>\n",
              "      <td>x</td>\n",
              "      <td>True</td>\n",
              "    </tr>\n",
              "    <tr>\n",
              "      <th>3</th>\n",
              "      <td>x</td>\n",
              "      <td>x</td>\n",
              "      <td>x</td>\n",
              "      <td>x</td>\n",
              "      <td>o</td>\n",
              "      <td>o</td>\n",
              "      <td>o</td>\n",
              "      <td>b</td>\n",
              "      <td>b</td>\n",
              "      <td>True</td>\n",
              "    </tr>\n",
              "    <tr>\n",
              "      <th>4</th>\n",
              "      <td>x</td>\n",
              "      <td>x</td>\n",
              "      <td>x</td>\n",
              "      <td>x</td>\n",
              "      <td>o</td>\n",
              "      <td>o</td>\n",
              "      <td>b</td>\n",
              "      <td>o</td>\n",
              "      <td>b</td>\n",
              "      <td>True</td>\n",
              "    </tr>\n",
              "  </tbody>\n",
              "</table>\n",
              "</div>\n",
              "    <div class=\"colab-df-buttons\">\n",
              "\n",
              "  <div class=\"colab-df-container\">\n",
              "    <button class=\"colab-df-convert\" onclick=\"convertToInteractive('df-404aad09-8934-4c9e-83a9-b864289ac220')\"\n",
              "            title=\"Convert this dataframe to an interactive table.\"\n",
              "            style=\"display:none;\">\n",
              "\n",
              "  <svg xmlns=\"http://www.w3.org/2000/svg\" height=\"24px\" viewBox=\"0 -960 960 960\">\n",
              "    <path d=\"M120-120v-720h720v720H120Zm60-500h600v-160H180v160Zm220 220h160v-160H400v160Zm0 220h160v-160H400v160ZM180-400h160v-160H180v160Zm440 0h160v-160H620v160ZM180-180h160v-160H180v160Zm440 0h160v-160H620v160Z\"/>\n",
              "  </svg>\n",
              "    </button>\n",
              "\n",
              "  <style>\n",
              "    .colab-df-container {\n",
              "      display:flex;\n",
              "      gap: 12px;\n",
              "    }\n",
              "\n",
              "    .colab-df-convert {\n",
              "      background-color: #E8F0FE;\n",
              "      border: none;\n",
              "      border-radius: 50%;\n",
              "      cursor: pointer;\n",
              "      display: none;\n",
              "      fill: #1967D2;\n",
              "      height: 32px;\n",
              "      padding: 0 0 0 0;\n",
              "      width: 32px;\n",
              "    }\n",
              "\n",
              "    .colab-df-convert:hover {\n",
              "      background-color: #E2EBFA;\n",
              "      box-shadow: 0px 1px 2px rgba(60, 64, 67, 0.3), 0px 1px 3px 1px rgba(60, 64, 67, 0.15);\n",
              "      fill: #174EA6;\n",
              "    }\n",
              "\n",
              "    .colab-df-buttons div {\n",
              "      margin-bottom: 4px;\n",
              "    }\n",
              "\n",
              "    [theme=dark] .colab-df-convert {\n",
              "      background-color: #3B4455;\n",
              "      fill: #D2E3FC;\n",
              "    }\n",
              "\n",
              "    [theme=dark] .colab-df-convert:hover {\n",
              "      background-color: #434B5C;\n",
              "      box-shadow: 0px 1px 3px 1px rgba(0, 0, 0, 0.15);\n",
              "      filter: drop-shadow(0px 1px 2px rgba(0, 0, 0, 0.3));\n",
              "      fill: #FFFFFF;\n",
              "    }\n",
              "  </style>\n",
              "\n",
              "    <script>\n",
              "      const buttonEl =\n",
              "        document.querySelector('#df-404aad09-8934-4c9e-83a9-b864289ac220 button.colab-df-convert');\n",
              "      buttonEl.style.display =\n",
              "        google.colab.kernel.accessAllowed ? 'block' : 'none';\n",
              "\n",
              "      async function convertToInteractive(key) {\n",
              "        const element = document.querySelector('#df-404aad09-8934-4c9e-83a9-b864289ac220');\n",
              "        const dataTable =\n",
              "          await google.colab.kernel.invokeFunction('convertToInteractive',\n",
              "                                                    [key], {});\n",
              "        if (!dataTable) return;\n",
              "\n",
              "        const docLinkHtml = 'Like what you see? Visit the ' +\n",
              "          '<a target=\"_blank\" href=https://colab.research.google.com/notebooks/data_table.ipynb>data table notebook</a>'\n",
              "          + ' to learn more about interactive tables.';\n",
              "        element.innerHTML = '';\n",
              "        dataTable['output_type'] = 'display_data';\n",
              "        await google.colab.output.renderOutput(dataTable, element);\n",
              "        const docLink = document.createElement('div');\n",
              "        docLink.innerHTML = docLinkHtml;\n",
              "        element.appendChild(docLink);\n",
              "      }\n",
              "    </script>\n",
              "  </div>\n",
              "\n",
              "\n",
              "<div id=\"df-0d90eecb-a029-4b9e-999f-d53fe78de2c7\">\n",
              "  <button class=\"colab-df-quickchart\" onclick=\"quickchart('df-0d90eecb-a029-4b9e-999f-d53fe78de2c7')\"\n",
              "            title=\"Suggest charts\"\n",
              "            style=\"display:none;\">\n",
              "\n",
              "<svg xmlns=\"http://www.w3.org/2000/svg\" height=\"24px\"viewBox=\"0 0 24 24\"\n",
              "     width=\"24px\">\n",
              "    <g>\n",
              "        <path d=\"M19 3H5c-1.1 0-2 .9-2 2v14c0 1.1.9 2 2 2h14c1.1 0 2-.9 2-2V5c0-1.1-.9-2-2-2zM9 17H7v-7h2v7zm4 0h-2V7h2v10zm4 0h-2v-4h2v4z\"/>\n",
              "    </g>\n",
              "</svg>\n",
              "  </button>\n",
              "\n",
              "<style>\n",
              "  .colab-df-quickchart {\n",
              "      --bg-color: #E8F0FE;\n",
              "      --fill-color: #1967D2;\n",
              "      --hover-bg-color: #E2EBFA;\n",
              "      --hover-fill-color: #174EA6;\n",
              "      --disabled-fill-color: #AAA;\n",
              "      --disabled-bg-color: #DDD;\n",
              "  }\n",
              "\n",
              "  [theme=dark] .colab-df-quickchart {\n",
              "      --bg-color: #3B4455;\n",
              "      --fill-color: #D2E3FC;\n",
              "      --hover-bg-color: #434B5C;\n",
              "      --hover-fill-color: #FFFFFF;\n",
              "      --disabled-bg-color: #3B4455;\n",
              "      --disabled-fill-color: #666;\n",
              "  }\n",
              "\n",
              "  .colab-df-quickchart {\n",
              "    background-color: var(--bg-color);\n",
              "    border: none;\n",
              "    border-radius: 50%;\n",
              "    cursor: pointer;\n",
              "    display: none;\n",
              "    fill: var(--fill-color);\n",
              "    height: 32px;\n",
              "    padding: 0;\n",
              "    width: 32px;\n",
              "  }\n",
              "\n",
              "  .colab-df-quickchart:hover {\n",
              "    background-color: var(--hover-bg-color);\n",
              "    box-shadow: 0 1px 2px rgba(60, 64, 67, 0.3), 0 1px 3px 1px rgba(60, 64, 67, 0.15);\n",
              "    fill: var(--button-hover-fill-color);\n",
              "  }\n",
              "\n",
              "  .colab-df-quickchart-complete:disabled,\n",
              "  .colab-df-quickchart-complete:disabled:hover {\n",
              "    background-color: var(--disabled-bg-color);\n",
              "    fill: var(--disabled-fill-color);\n",
              "    box-shadow: none;\n",
              "  }\n",
              "\n",
              "  .colab-df-spinner {\n",
              "    border: 2px solid var(--fill-color);\n",
              "    border-color: transparent;\n",
              "    border-bottom-color: var(--fill-color);\n",
              "    animation:\n",
              "      spin 1s steps(1) infinite;\n",
              "  }\n",
              "\n",
              "  @keyframes spin {\n",
              "    0% {\n",
              "      border-color: transparent;\n",
              "      border-bottom-color: var(--fill-color);\n",
              "      border-left-color: var(--fill-color);\n",
              "    }\n",
              "    20% {\n",
              "      border-color: transparent;\n",
              "      border-left-color: var(--fill-color);\n",
              "      border-top-color: var(--fill-color);\n",
              "    }\n",
              "    30% {\n",
              "      border-color: transparent;\n",
              "      border-left-color: var(--fill-color);\n",
              "      border-top-color: var(--fill-color);\n",
              "      border-right-color: var(--fill-color);\n",
              "    }\n",
              "    40% {\n",
              "      border-color: transparent;\n",
              "      border-right-color: var(--fill-color);\n",
              "      border-top-color: var(--fill-color);\n",
              "    }\n",
              "    60% {\n",
              "      border-color: transparent;\n",
              "      border-right-color: var(--fill-color);\n",
              "    }\n",
              "    80% {\n",
              "      border-color: transparent;\n",
              "      border-right-color: var(--fill-color);\n",
              "      border-bottom-color: var(--fill-color);\n",
              "    }\n",
              "    90% {\n",
              "      border-color: transparent;\n",
              "      border-bottom-color: var(--fill-color);\n",
              "    }\n",
              "  }\n",
              "</style>\n",
              "\n",
              "  <script>\n",
              "    async function quickchart(key) {\n",
              "      const quickchartButtonEl =\n",
              "        document.querySelector('#' + key + ' button');\n",
              "      quickchartButtonEl.disabled = true;  // To prevent multiple clicks.\n",
              "      quickchartButtonEl.classList.add('colab-df-spinner');\n",
              "      try {\n",
              "        const charts = await google.colab.kernel.invokeFunction(\n",
              "            'suggestCharts', [key], {});\n",
              "      } catch (error) {\n",
              "        console.error('Error during call to suggestCharts:', error);\n",
              "      }\n",
              "      quickchartButtonEl.classList.remove('colab-df-spinner');\n",
              "      quickchartButtonEl.classList.add('colab-df-quickchart-complete');\n",
              "    }\n",
              "    (() => {\n",
              "      let quickchartButtonEl =\n",
              "        document.querySelector('#df-0d90eecb-a029-4b9e-999f-d53fe78de2c7 button');\n",
              "      quickchartButtonEl.style.display =\n",
              "        google.colab.kernel.accessAllowed ? 'block' : 'none';\n",
              "    })();\n",
              "  </script>\n",
              "</div>\n",
              "\n",
              "    </div>\n",
              "  </div>\n"
            ],
            "application/vnd.google.colaboratory.intrinsic+json": {
              "type": "dataframe",
              "variable_name": "df_ttt",
              "summary": "{\n  \"name\": \"df_ttt\",\n  \"rows\": 958,\n  \"fields\": [\n    {\n      \"column\": \"TL\",\n      \"properties\": {\n        \"dtype\": \"category\",\n        \"num_unique_values\": 3,\n        \"samples\": [\n          \"x\",\n          \"o\",\n          \"b\"\n        ],\n        \"semantic_type\": \"\",\n        \"description\": \"\"\n      }\n    },\n    {\n      \"column\": \"TM\",\n      \"properties\": {\n        \"dtype\": \"category\",\n        \"num_unique_values\": 3,\n        \"samples\": [\n          \"x\",\n          \"o\",\n          \"b\"\n        ],\n        \"semantic_type\": \"\",\n        \"description\": \"\"\n      }\n    },\n    {\n      \"column\": \"TR\",\n      \"properties\": {\n        \"dtype\": \"category\",\n        \"num_unique_values\": 3,\n        \"samples\": [\n          \"x\",\n          \"o\",\n          \"b\"\n        ],\n        \"semantic_type\": \"\",\n        \"description\": \"\"\n      }\n    },\n    {\n      \"column\": \"ML\",\n      \"properties\": {\n        \"dtype\": \"category\",\n        \"num_unique_values\": 3,\n        \"samples\": [\n          \"x\",\n          \"o\",\n          \"b\"\n        ],\n        \"semantic_type\": \"\",\n        \"description\": \"\"\n      }\n    },\n    {\n      \"column\": \"MM\",\n      \"properties\": {\n        \"dtype\": \"category\",\n        \"num_unique_values\": 3,\n        \"samples\": [\n          \"o\",\n          \"b\",\n          \"x\"\n        ],\n        \"semantic_type\": \"\",\n        \"description\": \"\"\n      }\n    },\n    {\n      \"column\": \"MR\",\n      \"properties\": {\n        \"dtype\": \"category\",\n        \"num_unique_values\": 3,\n        \"samples\": [\n          \"o\",\n          \"b\",\n          \"x\"\n        ],\n        \"semantic_type\": \"\",\n        \"description\": \"\"\n      }\n    },\n    {\n      \"column\": \"BL\",\n      \"properties\": {\n        \"dtype\": \"category\",\n        \"num_unique_values\": 3,\n        \"samples\": [\n          \"x\",\n          \"o\",\n          \"b\"\n        ],\n        \"semantic_type\": \"\",\n        \"description\": \"\"\n      }\n    },\n    {\n      \"column\": \"BM\",\n      \"properties\": {\n        \"dtype\": \"category\",\n        \"num_unique_values\": 3,\n        \"samples\": [\n          \"o\",\n          \"x\",\n          \"b\"\n        ],\n        \"semantic_type\": \"\",\n        \"description\": \"\"\n      }\n    },\n    {\n      \"column\": \"BR\",\n      \"properties\": {\n        \"dtype\": \"category\",\n        \"num_unique_values\": 3,\n        \"samples\": [\n          \"o\",\n          \"x\",\n          \"b\"\n        ],\n        \"semantic_type\": \"\",\n        \"description\": \"\"\n      }\n    },\n    {\n      \"column\": \"class\",\n      \"properties\": {\n        \"dtype\": \"boolean\",\n        \"num_unique_values\": 2,\n        \"samples\": [\n          false,\n          true\n        ],\n        \"semantic_type\": \"\",\n        \"description\": \"\"\n      }\n    }\n  ]\n}"
            }
          },
          "metadata": {},
          "execution_count": 29
        }
      ]
    },
    {
      "cell_type": "code",
      "source": [
        "\n",
        "# Loop through each column and get the unique values\n",
        "for column in df_ttt.columns:\n",
        "    print(f\"Unique values in {column}: {df_ttt[column].unique()}\")\n",
        "# Create a dictionary of unique values for each column\n",
        "# unique_values_dict = {column: df_ttt[column].unique() for column in df_ttt.columns}\n",
        "\n",
        "# Print the dictionary\n",
        "# print(unique_values_dict)"
      ],
      "metadata": {
        "id": "pHU-cgJ51Z4L"
      },
      "execution_count": null,
      "outputs": []
    },
    {
      "cell_type": "code",
      "execution_count": 33,
      "metadata": {
        "colab": {
          "base_uri": "https://localhost:8080/"
        },
        "id": "w2E0ydCrhBN5",
        "outputId": "462de26a-b14c-476d-d5e7-12cd11878d9b"
      },
      "outputs": [
        {
          "output_type": "stream",
          "name": "stdout",
          "text": [
            "     TL  TM  TR  ML  MM  MR  BL  BM  BR  class\n",
            "0     2   2   2   2   1   1   2   1   1   True\n",
            "1     2   2   2   2   1   1   1   2   1   True\n",
            "2     2   2   2   2   1   1   1   1   2   True\n",
            "3     2   2   2   2   1   1   1   0   0   True\n",
            "4     2   2   2   2   1   1   0   1   0   True\n",
            "..   ..  ..  ..  ..  ..  ..  ..  ..  ..    ...\n",
            "953   1   2   2   2   1   1   1   2   2  False\n",
            "954   1   2   1   2   2   1   2   1   2  False\n",
            "955   1   2   1   2   1   2   2   1   2  False\n",
            "956   1   2   1   1   2   2   2   1   2  False\n",
            "957   1   1   2   2   2   1   1   2   2  False\n",
            "\n",
            "[958 rows x 10 columns]\n"
          ]
        }
      ],
      "source": [
        "from sklearn.preprocessing import LabelEncoder\n",
        "\n",
        "# Initialize the LabelEncoder\n",
        "label_encoder = LabelEncoder()\n",
        "\n",
        "# Apply LabelEncoder to each categorical column\n",
        "categorical_columns = ['TL', 'TM', 'TR', 'ML', 'MM', 'MR', 'BL', 'BM', 'BR','class']\n",
        "df_ttt[categorical_columns] = df_ttt[categorical_columns].apply(label_encoder.fit_transform)\n",
        "\n",
        "# View the encoded DataFrame\n",
        "print(df_ttt)"
      ]
    },
    {
      "cell_type": "code",
      "source": [
        "# # Apply LabelEncoder 'class'\n",
        "# categorical_columns = ['class']\n",
        "# df_ttt[categorical_columns] = df_ttt[categorical_columns].apply(label_encoder.fit_transform)\n",
        "\n",
        "# # View the encoded DataFrame\n",
        "# print(df_ttt)"
      ],
      "metadata": {
        "id": "WW7VBRea2BDy",
        "outputId": "c62bc324-7fe3-4958-d692-b9e3db0fc8d0",
        "colab": {
          "base_uri": "https://localhost:8080/"
        }
      },
      "execution_count": 34,
      "outputs": [
        {
          "output_type": "stream",
          "name": "stdout",
          "text": [
            "     TL  TM  TR  ML  MM  MR  BL  BM  BR  class\n",
            "0     2   2   2   2   1   1   2   1   1      1\n",
            "1     2   2   2   2   1   1   1   2   1      1\n",
            "2     2   2   2   2   1   1   1   1   2      1\n",
            "3     2   2   2   2   1   1   1   0   0      1\n",
            "4     2   2   2   2   1   1   0   1   0      1\n",
            "..   ..  ..  ..  ..  ..  ..  ..  ..  ..    ...\n",
            "953   1   2   2   2   1   1   1   2   2      0\n",
            "954   1   2   1   2   2   1   2   1   2      0\n",
            "955   1   2   1   2   1   2   2   1   2      0\n",
            "956   1   2   1   1   2   2   2   1   2      0\n",
            "957   1   1   2   2   2   1   1   2   2      0\n",
            "\n",
            "[958 rows x 10 columns]\n"
          ]
        }
      ]
    },
    {
      "cell_type": "code",
      "source": [
        "X = df_ttt.drop('class', axis=1)\n",
        "y = df_ttt['class']"
      ],
      "metadata": {
        "id": "dABFqI902ZlC"
      },
      "execution_count": 36,
      "outputs": []
    },
    {
      "cell_type": "code",
      "source": [
        "from sklearn.preprocessing import MinMaxScaler\n",
        "\n",
        "# Initialize the MinMaxScaler\n",
        "scaler = MinMaxScaler()\n",
        "\n",
        "# Normalize the input features (X)\n",
        "X_normalized = scaler.fit_transform(X)\n",
        "X_normalized_df_ttt = pd.DataFrame(X_normalized, columns=X.columns)\n",
        "\n",
        "# View the normalized data\n",
        "print(\"Normalized Input Features (X):\")\n",
        "print(X_normalized_df_ttt.head())"
      ],
      "metadata": {
        "id": "Y4Hepy772ZbM",
        "outputId": "5a430e89-d568-437f-d5e4-f996d78524c5",
        "colab": {
          "base_uri": "https://localhost:8080/"
        }
      },
      "execution_count": 37,
      "outputs": [
        {
          "output_type": "stream",
          "name": "stdout",
          "text": [
            "Normalized Input Features (X):\n",
            "    TL   TM   TR   ML   MM   MR   BL   BM   BR\n",
            "0  1.0  1.0  1.0  1.0  0.5  0.5  1.0  0.5  0.5\n",
            "1  1.0  1.0  1.0  1.0  0.5  0.5  0.5  1.0  0.5\n",
            "2  1.0  1.0  1.0  1.0  0.5  0.5  0.5  0.5  1.0\n",
            "3  1.0  1.0  1.0  1.0  0.5  0.5  0.5  0.0  0.0\n",
            "4  1.0  1.0  1.0  1.0  0.5  0.5  0.0  0.5  0.0\n"
          ]
        }
      ]
    },
    {
      "cell_type": "markdown",
      "metadata": {
        "id": "W1KqDASnhBN6"
      },
      "source": [
        "## Step 2: Build Neural Network\n",
        "\n",
        "To build the neural network, you can refer to your own codes you wrote while following the [Deep Learning with Python, TensorFlow, and Keras tutorial](https://www.youtube.com/watch?v=wQ8BIBpya2k) in the lesson. It's pretty similar to what you will be doing in this lab.\n",
        "\n",
        "1. Split the training and test data.\n",
        "1. Create a `Sequential` model.\n",
        "1. Add several layers to your model. Make sure you use ReLU as the activation function for the middle layers. Use Softmax for the output layer because each output has a single lable and all the label probabilities add up to 1.\n",
        "1. Compile the model using `adam` as the optimizer and `sparse_categorical_crossentropy` as the loss function. For metrics, use `accuracy` for now.\n",
        "1. Fit the training data.\n",
        "1. Evaluate your neural network model with the test data.\n",
        "1. Save your model as `tic-tac-toe.model`."
      ]
    },
    {
      "cell_type": "code",
      "source": [
        "from sklearn.model_selection import train_test_split\n",
        "\n",
        "# Split the dataset into training and test sets\n",
        "X_train, X_test, y_train, y_test = train_test_split(X, y, test_size=0.3, random_state=42)"
      ],
      "metadata": {
        "id": "GQYex1-14bUi"
      },
      "execution_count": null,
      "outputs": []
    },
    {
      "cell_type": "code",
      "source": [
        "from keras.optimizers import Adam\n",
        "\n",
        "\n",
        "##### Build the model\n",
        "\n",
        "# Lets build a sequencial model\n",
        "# model = Sequential([\n",
        "#    LAYER1 -> Dense(                       -> Dense networks means all neurons in one layer are connected to all neuronsof the next layer\n",
        "#                    64,                    -> Number of neurons\n",
        "#                    activation='relu',     -> activation function\n",
        "#                    input_shape=(784,)),   -> input shape (as it is the first layer)\n",
        "#                               # 784= 28*28\n",
        "#\n",
        "#    LAYER 2 -> Dense(64, activation='relu'),      # choosing relu instead of sigmoid, this is somewhat common\n",
        "#\n",
        "#    LAYER 3 (output) -> Dense(\n",
        "#                              10,           -> # of Output Neurons = # of Classes\n",
        "#                              activation='softmax'),   # Softmax -> Coverts a universe of real numbers into probabilities!!\n",
        "#                               ])\n",
        "\n",
        "model = Sequential()\n",
        "model.add(Dense(16, activation='relu', input_shape=(784,)))\n",
        "model.add(Dropout(0.5))\n",
        "model.add(Dense(32, activation='relu'))\n",
        "model.add(Dropout(0.5))\n",
        "\n",
        "#model.add(...)\n",
        "#model.add(...)\n",
        "#model.add(...)\n",
        "#model.add(...)\n",
        "\n",
        "model.add(Dense(num_classes, activation='softmax'))\n",
        "\n",
        "\n",
        "\n",
        "model.summary()\n",
        "\n"
      ],
      "metadata": {
        "id": "OajLtgvE4adP"
      },
      "execution_count": null,
      "outputs": []
    },
    {
      "cell_type": "code",
      "source": [
        "# Define the optimizer\n",
        "#my_opt = Adam(learning_rate=0.001)\n",
        "my_opt = tensorflow.keras.optimizers.Adagrad(learning_rate=0.01, epsilon=0.1, decay=0.0)\n",
        "\n",
        "model.compile(loss='categorical_crossentropy',\n",
        "\n",
        "              #optimizer=RMSprop(),\n",
        "              optimizer = my_opt,\n",
        "              metrics=['accuracy'])"
      ],
      "metadata": {
        "id": "IY9uJDeO4ZwN"
      },
      "execution_count": null,
      "outputs": []
    },
    {
      "cell_type": "code",
      "source": [],
      "metadata": {
        "id": "kjd9tdPD4Zi_"
      },
      "execution_count": null,
      "outputs": []
    },
    {
      "cell_type": "code",
      "source": [],
      "metadata": {
        "id": "--bvKuxr4ZZI"
      },
      "execution_count": null,
      "outputs": []
    },
    {
      "cell_type": "code",
      "source": [],
      "metadata": {
        "id": "I72KilPs4ZQ0"
      },
      "execution_count": null,
      "outputs": []
    },
    {
      "cell_type": "code",
      "execution_count": null,
      "metadata": {
        "id": "Mkthbhi9hBN6"
      },
      "outputs": [],
      "source": [
        "# your code here"
      ]
    },
    {
      "cell_type": "markdown",
      "metadata": {
        "id": "MgOBG6A7hBN6"
      },
      "source": [
        "## Step 3: Make Predictions\n",
        "\n",
        "Now load your saved model and use it to make predictions on a few random rows in the test dataset. Check if the predictions are correct."
      ]
    },
    {
      "cell_type": "code",
      "execution_count": null,
      "metadata": {
        "id": "2gXG5AUChBN6"
      },
      "outputs": [],
      "source": [
        "# your code here"
      ]
    },
    {
      "cell_type": "markdown",
      "metadata": {
        "id": "ru6Lq0_chBN6"
      },
      "source": [
        "## Step 4: Improve Your Model\n",
        "\n",
        "Did your model achieve low loss (<0.1) and high accuracy (>0.95)? If not, try to improve your model.\n",
        "\n",
        "But how? There are so many things you can play with in Tensorflow and in the next challenge you'll learn about these things. But in this challenge, let's just do a few things to see if they will help.\n",
        "\n",
        "* Add more layers to your model. If the data are complex you need more layers. But don't use more layers than you need. If adding more layers does not improve the model performance you don't need additional layers.\n",
        "* Adjust the learning rate when you compile the model. This means you will create a custom `tf.keras.optimizers.Adam` instance where you specify the learning rate you want. Then pass the instance to `model.compile` as the optimizer.\n",
        "    * `tf.keras.optimizers.Adam` [reference](https://www.tensorflow.org/api_docs/python/tf/keras/optimizers/Adam).\n",
        "    * Don't worry if you don't understand what the learning rate does. You'll learn about it in the next challenge.\n",
        "* Adjust the number of epochs when you fit the training data to the model. Your model performance continues to improve as you train more epochs. But eventually it will reach the ceiling and the performance will stay the same."
      ]
    },
    {
      "cell_type": "code",
      "execution_count": null,
      "metadata": {
        "id": "OB2r_R4FhBN6"
      },
      "outputs": [],
      "source": [
        "# your code here"
      ]
    },
    {
      "cell_type": "markdown",
      "metadata": {
        "id": "UPphDlSAhBN7"
      },
      "source": [
        "**Which approach(es) did you find helpful to improve your model performance?**"
      ]
    },
    {
      "cell_type": "code",
      "execution_count": null,
      "metadata": {
        "id": "NhlRXLbBhBN7"
      },
      "outputs": [],
      "source": [
        "# your answer here"
      ]
    }
  ],
  "metadata": {
    "kernelspec": {
      "display_name": "Python 3",
      "language": "python",
      "name": "python3"
    },
    "language_info": {
      "codemirror_mode": {
        "name": "ipython",
        "version": 3
      },
      "file_extension": ".py",
      "mimetype": "text/x-python",
      "name": "python",
      "nbconvert_exporter": "python",
      "pygments_lexer": "ipython3",
      "version": "3.7.3"
    },
    "colab": {
      "provenance": [],
      "toc_visible": true
    }
  },
  "nbformat": 4,
  "nbformat_minor": 0
}