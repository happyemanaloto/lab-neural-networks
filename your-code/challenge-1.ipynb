{
  "cells": [
    {
      "cell_type": "markdown",
      "metadata": {
        "id": "RZ1qNefnhBN4"
      },
      "source": [
        "# Challenge 1 - Tic Tac Toe\n",
        "\n",
        "In this lab you will perform deep learning analysis on a dataset of playing [Tic Tac Toe](https://en.wikipedia.org/wiki/Tic-tac-toe).\n",
        "\n",
        "There are 9 grids in Tic Tac Toe that are coded as the following picture shows:\n",
        "\n",
        "![Tic Tac Toe Grids](https://github.com/happyemanaloto/lab-neural-networks/blob/master/your-code/tttboard.jpg?raw=1)\n",
        "\n",
        "In the first 9 columns of the dataset you can find which marks (`x` or `o`) exist in the grids. If there is no mark in a certain grid, it is labeled as `b`. The last column is `class` which tells you whether Player X (who always moves first in Tic Tac Toe) wins in this configuration. Note that when `class` has the value `False`, it means either Player O wins the game or it ends up as a draw."
      ]
    },
    {
      "cell_type": "markdown",
      "metadata": {
        "id": "bU-BsfcthBN5"
      },
      "source": [
        "Follow the steps suggested below to conduct a neural network analysis using Tensorflow and Keras. You will build a deep learning model to predict whether Player X wins the game or not.\n",
        "\n",
        "## Step 1: Data Engineering\n",
        "\n",
        "This dataset is almost in the ready-to-use state so you do not need to worry about missing values and so on. Still, some simple data engineering is needed.\n",
        "\n",
        "1. Read `tic-tac-toe.csv` into a dataframe.\n",
        "1. Inspect the dataset. Determine if the dataset is reliable by eyeballing the data.\n",
        "1. Convert the categorical values to numeric in all columns.\n",
        "1. Separate the inputs and output.\n",
        "1. Normalize the input data."
      ]
    },
    {
      "cell_type": "code",
      "source": [
        "import pandas as pd\n",
        "import os\n",
        "\n",
        "\n",
        "# !git clone https://github.com/happyemanaloto/lab-neural-networks.git\n",
        "os.chdir(\"/content/lab-neural-networks/your-code\")\n",
        "print(os.getcwd())\n",
        "!ls\n"
      ],
      "metadata": {
        "id": "P3x9ifmkrePR"
      },
      "execution_count": null,
      "outputs": []
    },
    {
      "cell_type": "code",
      "source": [
        "df_ttt = pd.read_csv('tic-tac-toe.csv')\n",
        "df_ttt.head()"
      ],
      "metadata": {
        "id": "DZeYOMvz0UIj"
      },
      "execution_count": null,
      "outputs": []
    },
    {
      "cell_type": "code",
      "source": [
        "\n",
        "# Loop through each column and get the unique values\n",
        "for column in df_ttt.columns:\n",
        "    print(f\"Unique values in {column}: {df_ttt[column].unique()}\")\n",
        "# Create a dictionary of unique values for each column\n",
        "# unique_values_dict = {column: df_ttt[column].unique() for column in df_ttt.columns}\n",
        "\n",
        "# Print the dictionary\n",
        "# print(unique_values_dict)"
      ],
      "metadata": {
        "id": "pHU-cgJ51Z4L"
      },
      "execution_count": null,
      "outputs": []
    },
    {
      "cell_type": "code",
      "execution_count": null,
      "metadata": {
        "id": "w2E0ydCrhBN5"
      },
      "outputs": [],
      "source": [
        "from sklearn.preprocessing import LabelEncoder\n",
        "\n",
        "# Initialize the LabelEncoder\n",
        "label_encoder = LabelEncoder()\n",
        "\n",
        "# Apply LabelEncoder to each categorical column\n",
        "categorical_columns = ['TL', 'TM', 'TR', 'ML', 'MM', 'MR', 'BL', 'BM', 'BR','class']\n",
        "df_ttt[categorical_columns] = df_ttt[categorical_columns].apply(label_encoder.fit_transform)\n",
        "\n",
        "# View the encoded DataFrame\n",
        "print(df_ttt)"
      ]
    },
    {
      "cell_type": "code",
      "source": [
        "# # Apply LabelEncoder 'class'\n",
        "# categorical_columns = ['class']\n",
        "# df_ttt[categorical_columns] = df_ttt[categorical_columns].apply(label_encoder.fit_transform)\n",
        "\n",
        "# # View the encoded DataFrame\n",
        "# print(df_ttt)"
      ],
      "metadata": {
        "id": "WW7VBRea2BDy"
      },
      "execution_count": null,
      "outputs": []
    },
    {
      "cell_type": "code",
      "source": [
        "X = df_ttt.drop('class', axis=1)\n",
        "y = df_ttt['class']"
      ],
      "metadata": {
        "id": "dABFqI902ZlC"
      },
      "execution_count": null,
      "outputs": []
    },
    {
      "cell_type": "code",
      "source": [
        "from sklearn.preprocessing import MinMaxScaler\n",
        "\n",
        "# Initialize the MinMaxScaler\n",
        "scaler = MinMaxScaler()\n",
        "\n",
        "# Normalize the input features (X)\n",
        "X_normalized = scaler.fit_transform(X)\n",
        "X_normalized_df_ttt = pd.DataFrame(X_normalized, columns=X.columns)\n",
        "\n",
        "# View the normalized data\n",
        "print(\"Normalized Input Features (X):\")\n",
        "print(X_normalized_df_ttt.head())"
      ],
      "metadata": {
        "id": "Y4Hepy772ZbM"
      },
      "execution_count": null,
      "outputs": []
    },
    {
      "cell_type": "markdown",
      "metadata": {
        "id": "W1KqDASnhBN6"
      },
      "source": [
        "## Step 2: Build Neural Network\n",
        "\n",
        "To build the neural network, you can refer to your own codes you wrote while following the [Deep Learning with Python, TensorFlow, and Keras tutorial](https://www.youtube.com/watch?v=wQ8BIBpya2k) in the lesson. It's pretty similar to what you will be doing in this lab.\n",
        "\n",
        "1. Split the training and test data.\n",
        "1. Create a `Sequential` model.\n",
        "1. Add several layers to your model. Make sure you use ReLU as the activation function for the middle layers. Use Softmax for the output layer because each output has a single lable and all the label probabilities add up to 1.\n",
        "1. Compile the model using `adam` as the optimizer and `sparse_categorical_crossentropy` as the loss function. For metrics, use `accuracy` for now.\n",
        "1. Fit the training data.\n",
        "1. Evaluate your neural network model with the test data.\n",
        "1. Save your model as `tic-tac-toe.model`."
      ]
    },
    {
      "cell_type": "code",
      "source": [
        "print(X_normalized.shape)"
      ],
      "metadata": {
        "id": "lkf34UCCCV2N"
      },
      "execution_count": null,
      "outputs": []
    },
    {
      "cell_type": "code",
      "source": [
        "from sklearn.model_selection import train_test_split\n",
        "\n",
        "# Split the dataset into training and test sets\n",
        "X_train, X_test, y_train, y_test = train_test_split(X, y, test_size=0.2, random_state=42)"
      ],
      "metadata": {
        "id": "GQYex1-14bUi"
      },
      "execution_count": null,
      "outputs": []
    },
    {
      "cell_type": "code",
      "source": [
        "import tensorflow as tf\n",
        "from tensorflow.keras.models import Sequential\n",
        "from tensorflow.keras.layers import Dense\n",
        "from tensorflow.keras.layers import Dropout\n",
        "from keras.optimizers import Adam\n",
        "from tensorflow.keras.regularizers import l2\n",
        "\n",
        "##### Build the model\n",
        "\n",
        "# Lets build a sequencial model\n",
        "# model = Sequential([\n",
        "#    LAYER1 -> Dense(                       -> Dense networks means all neurons in one layer are connected to all neuronsof the next layer\n",
        "#                    64,                    -> Number of neurons\n",
        "#                    activation='relu',     -> activation function\n",
        "#                    input_shape=(784,)),   -> input shape (as it is the first layer)\n",
        "#                               # 784= 28*28\n",
        "#\n",
        "#    LAYER 2 -> Dense(64, activation='relu'),      # choosing relu instead of sigmoid, this is somewhat common\n",
        "#\n",
        "#    LAYER 3 (output) -> Dense(\n",
        "#                              10,           -> # of Output Neurons = # of Classes\n",
        "#                              activation='softmax'),   # Softmax -> Coverts a universe of real numbers into probabilities!!\n",
        "#                               ])\n",
        "\n",
        "\n",
        "\n",
        "model = Sequential()\n",
        "# model.add(Dense(64, activation='relu', input_shape=(9,), kernel_regularizer=l2(0.03)))  # L2 Regularization\n",
        "# model.add(Dropout(0.5))\n",
        "# model.add(Dense(128, activation='relu', kernel_regularizer=l2(0.03)))\n",
        "# model.add(Dropout(0.5))\n",
        "# model.add(Dense(256, activation='relu', kernel_regularizer=l2(0.03)))\n",
        "# model.add(Dropout(0.5))\n",
        "\n",
        "model.add(Dense(64, activation='relu', input_shape=(9,)))\n",
        "model.add(Dropout(0.5))\n",
        "model.add(Dense(128, activation='relu'))\n",
        "model.add(Dropout(0.5))\n",
        "model.add(Dense(256, activation='relu'))\n",
        "model.add(Dropout(0.5))\n",
        "\n",
        "#model.add(...)\n",
        "#model.add(...)\n",
        "#model.add(...)\n",
        "#model.add(...)\n",
        "\n",
        "model.add(Dense(2, activation='softmax'))\n",
        "\n",
        "\n",
        "\n",
        "\n"
      ],
      "metadata": {
        "id": "OajLtgvE4adP"
      },
      "execution_count": null,
      "outputs": []
    },
    {
      "cell_type": "code",
      "source": [
        "from tensorflow.keras.optimizers import Adam\n",
        "\n",
        "# Define a custom learning rate (e.g., 0.001)\n",
        "learning_rate = 0.001\n",
        "\n",
        "# Create the Adam optimizer with the specified learning rate\n",
        "optimizer = Adam(learning_rate=learning_rate)\n",
        "\n",
        "# Compile the model with this optimizer\n",
        "model.compile(optimizer=optimizer, loss='sparse_categorical_crossentropy', metrics=['accuracy'])\n",
        "\n",
        "# # Compile the model\n",
        "# model.compile(optimizer=Adam(learning_rate=0.001),  # Adam optimizer\n",
        "#               loss='sparse_categorical_crossentropy',  # Loss function for multi-class classification\n",
        "#               metrics=['accuracy'])  # Metrics to track during training\n",
        "# model.summary()\n"
      ],
      "metadata": {
        "id": "IY9uJDeO4ZwN"
      },
      "execution_count": null,
      "outputs": []
    },
    {
      "cell_type": "code",
      "source": [
        "y_test"
      ],
      "metadata": {
        "id": "kjd9tdPD4Zi_"
      },
      "execution_count": null,
      "outputs": []
    },
    {
      "cell_type": "code",
      "source": [
        "#model.fit(X_train, y_train, epochs=80, batch_size=32)\n",
        "from tensorflow.keras.callbacks import EarlyStopping\n",
        "\n",
        "early_stopping = EarlyStopping(monitor='val_loss', patience=5, restore_best_weights=True)\n",
        "\n",
        "model.fit(X_train, y_train, epochs=50, batch_size=32, validation_split=0.2, callbacks=[early_stopping])"
      ],
      "metadata": {
        "id": "--bvKuxr4ZZI"
      },
      "execution_count": null,
      "outputs": []
    },
    {
      "cell_type": "code",
      "source": [
        "model.evaluate(X_test, y_test)"
      ],
      "metadata": {
        "id": "I72KilPs4ZQ0"
      },
      "execution_count": null,
      "outputs": []
    },
    {
      "cell_type": "code",
      "execution_count": null,
      "metadata": {
        "id": "Mkthbhi9hBN6"
      },
      "outputs": [],
      "source": [
        "model.save('tic-tac-toe.keras')"
      ]
    },
    {
      "cell_type": "markdown",
      "metadata": {
        "id": "MgOBG6A7hBN6"
      },
      "source": [
        "## Step 3: Make Predictions\n",
        "\n",
        "Now load your saved model and use it to make predictions on a few random rows in the test dataset. Check if the predictions are correct."
      ]
    },
    {
      "cell_type": "code",
      "execution_count": null,
      "metadata": {
        "id": "2gXG5AUChBN6"
      },
      "outputs": [],
      "source": [
        "import tensorflow as tf\n",
        "import numpy as np\n",
        "import pandas as pd\n",
        "\n",
        "# Load the saved model\n",
        "model = tf.keras.models.load_model('tic-tac-toe.keras')\n",
        "\n",
        "# Select a few random rows from the test dataset\n",
        "random_rows = df_ttt.sample(n=5)  # Change 5 to however many rows you want to check\n",
        "\n",
        "# Extract features and labels from the random rows\n",
        "X_random = random_rows.drop('class', axis=1)\n",
        "y_random = random_rows['class']\n",
        "\n",
        "# Make predictions on these random rows\n",
        "predictions = model.predict(X_random)\n",
        "\n",
        "# Output the predictions and the actual labels\n",
        "for i in range(len(random_rows)):\n",
        "    print(f\"Actual label: {y_random.iloc[i]}, Predicted: {np.argmax(predictions[i])}\")\n"
      ]
    },
    {
      "cell_type": "markdown",
      "metadata": {
        "id": "ru6Lq0_chBN6"
      },
      "source": [
        "## Step 4: Improve Your Model\n",
        "\n",
        "Did your model achieve low loss (<0.1) and high accuracy (>0.95)? If not, try to improve your model.\n",
        "\n",
        "But how? There are so many things you can play with in Tensorflow and in the next challenge you'll learn about these things. But in this challenge, let's just do a few things to see if they will help.\n",
        "\n",
        "* Add more layers to your model. If the data are complex you need more layers. But don't use more layers than you need. If adding more layers does not improve the model performance you don't need additional layers.\n",
        "* Adjust the learning rate when you compile the model. This means you will create a custom `tf.keras.optimizers.Adam` instance where you specify the learning rate you want. Then pass the instance to `model.compile` as the optimizer.\n",
        "    * `tf.keras.optimizers.Adam` [reference](https://www.tensorflow.org/api_docs/python/tf/keras/optimizers/Adam).\n",
        "    * Don't worry if you don't understand what the learning rate does. You'll learn about it in the next challenge.\n",
        "* Adjust the number of epochs when you fit the training data to the model. Your model performance continues to improve as you train more epochs. But eventually it will reach the ceiling and the performance will stay the same."
      ]
    },
    {
      "cell_type": "code",
      "execution_count": null,
      "metadata": {
        "id": "OB2r_R4FhBN6"
      },
      "outputs": [],
      "source": [
        "# I edited the codes above"
      ]
    },
    {
      "cell_type": "code",
      "source": [
        "# model.fit(X_train, y_train, epochs=80, batch_size=32)\n",
        "from tensorflow.keras.callbacks import EarlyStopping\n",
        "\n",
        "early_stopping = EarlyStopping(monitor='val_loss', patience=5, restore_best_weights=True)\n",
        "\n",
        "model.fit(X_train, y_train, epochs=50, batch_size=32, validation_split=0.2, callbacks=[early_stopping])"
      ],
      "metadata": {
        "id": "XWmlq_O5OLK5"
      },
      "execution_count": null,
      "outputs": []
    },
    {
      "cell_type": "markdown",
      "metadata": {
        "id": "UPphDlSAhBN7"
      },
      "source": [
        "**Which approach(es) did you find helpful to improve your model performance?**"
      ]
    },
    {
      "cell_type": "code",
      "execution_count": null,
      "metadata": {
        "id": "NhlRXLbBhBN7"
      },
      "outputs": [],
      "source": [
        "#adjusting the architecture improved it a bit, increasing epochs with low learning_rate is effective but changing training set and test set was best"
      ]
    }
  ],
  "metadata": {
    "kernelspec": {
      "display_name": "Python 3",
      "language": "python",
      "name": "python3"
    },
    "language_info": {
      "codemirror_mode": {
        "name": "ipython",
        "version": 3
      },
      "file_extension": ".py",
      "mimetype": "text/x-python",
      "name": "python",
      "nbconvert_exporter": "python",
      "pygments_lexer": "ipython3",
      "version": "3.7.3"
    },
    "colab": {
      "provenance": [],
      "toc_visible": true
    }
  },
  "nbformat": 4,
  "nbformat_minor": 0
}